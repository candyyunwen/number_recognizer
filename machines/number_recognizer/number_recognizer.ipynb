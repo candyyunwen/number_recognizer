{
 "cells": [
  {
   "cell_type": "markdown",
   "metadata": {},
   "source": [
    "# Number Recognizer\n",
    "\n",
    "今回は、ブラウザ上に書いた手書きの数字を認識させます。具体的には、canvasに書かれた数字が0～9のどれであるかを当てさせます。  \n",
    "その予測を行うためのモデルを、以下のステップに沿って作成していきます。\n",
    "\n",
    "\n",
    "* [データロード](#Load-the-Data)\n",
    "* [モデル構築](#Create-the-Model)\n",
    "* [学習](#Training-the-Model)\n",
    "* [評価](#Evaluate-the-Model)\n",
    "* [保存](#Store-the-Model)\n"
   ]
  },
  {
   "cell_type": "code",
   "execution_count": 1,
   "metadata": {
    "collapsed": true
   },
   "outputs": [],
   "source": [
    "# グラフが文章中に表示されるようにするおまじない\n",
    "%matplotlib inline"
   ]
  },
  {
   "cell_type": "markdown",
   "metadata": {},
   "source": [
    "## Load the Data\n",
    "\n",
    "scikit-learnには、最初から手書きの数字を認識するための学習データ(手書き数字の画像データと、その画像の数字が0～9の何れであるかという答えのセット)が搭載されているため、それを利用します。"
   ]
  },
  {
   "cell_type": "code",
   "execution_count": 2,
   "metadata": {
    "collapsed": true
   },
   "outputs": [
    {
     "name": "stdout",
     "output_type": "stream",
     "text": [
      "(1797, 64)\n"
     ]
    }
   ],
   "source": [
    "def load_data():\n",
    "    from sklearn import datasets\n",
    "    dataset = datasets.load_digits()\n",
    "    return dataset\n",
    "\n",
    "digits = load_data()\n",
    "print(digits.data.shape)"
   ]
  },
  {
   "cell_type": "markdown",
   "metadata": {},
   "source": [
    "`1797`は行数、`64`は次元数です。手書き文字の画像データが8×8のサイズであるため、その中のピクセル情報は64となります(今回値はグレースケールですが、RGBの場合3倍になります)。"
   ]
  },
  {
   "cell_type": "code",
   "execution_count": 6,
   "metadata": {
    "collapsed": true
   },
   "outputs": [
    {
     "data": {
      "image/png": "[encoded data removed]",
      "text/plain": [
       "<matplotlib.figure.Figure at 0x11af9390>"
      ]
     },
     "metadata": {},
     "output_type": "display_data"
    }
   ],
   "source": [
    "def show_image(image):\n",
    "    import matplotlib.pyplot as plt\n",
    "\n",
    "    plt.figure(1, figsize=(3, 3))\n",
    "    plt.imshow(image, cmap=plt.cm.gray_r, interpolation='nearest')\n",
    "    plt.show()\n",
    "\n",
    "show_image(digits.images[0])"
   ]
  },
  {
   "cell_type": "markdown",
   "metadata": {},
   "source": [
    "## Create the Model\n",
    "\n",
    "今回扱うのは画像の分類問題になります。そこで、シンプルな線形分類機であるSGDClassifierを利用します。"
   ]
  },
  {
   "cell_type": "code",
   "execution_count": 13,
   "metadata": {
    "collapsed": true
   },
   "outputs": [],
   "source": [
    "def make_model():\n",
    "    from sklearn.linear_model import SGDClassifier    \n",
    "    clf = SGDClassifier(alpha=0.0001, fit_intercept=True, n_iter=200)\n",
    "    return clf\n",
    "    \n",
    "classifier = make_model()"
   ]
  },
  {
   "cell_type": "markdown",
   "metadata": {},
   "source": [
    "## Training the Model"
   ]
  },
  {
   "cell_type": "markdown",
   "metadata": {},
   "source": [
    "データとモデルがそろったため、学習させてみます。"
   ]
  },
  {
   "cell_type": "code",
   "execution_count": 23,
   "metadata": {
    "collapsed": true
   },
   "outputs": [
    {
     "data": {
      "text/plain": [
       "SGDClassifier(alpha=0.0001, average=False, class_weight=None, epsilon=0.1,\n",
       "       eta0=0.0, fit_intercept=True, l1_ratio=0.15,\n",
       "       learning_rate='optimal', loss='hinge', n_iter=200, n_jobs=1,\n",
       "       penalty='l2', power_t=0.5, random_state=None, shuffle=True,\n",
       "       verbose=0, warm_start=False)"
      ]
     },
     "execution_count": 23,
     "metadata": {},
     "output_type": "execute_result"
    }
   ],
   "source": [
    "classifier.fit(digits.data, digits.target)"
   ]
  },
  {
   "cell_type": "markdown",
   "metadata": {},
   "source": [
    "## Evaluate the Model"
   ]
  },
  {
   "cell_type": "markdown",
   "metadata": {},
   "source": [
    "学習させたモデルの精度を計測してみます。`predict`で予測させることができるので、これで予測させた値と実際の答え(`digits.target`)を比べてみます。"
   ]
  },
  {
   "cell_type": "code",
   "execution_count": 24,
   "metadata": {
    "collapsed": true
   },
   "outputs": [
    {
     "name": "stdout",
     "output_type": "stream",
     "text": [
      "0.987200890373\n"
     ]
    }
   ],
   "source": [
    "def calculate_accuracy(model, dataset):\n",
    "    from sklearn import metrics\n",
    "\n",
    "    predicted = model.predict(dataset.data)\n",
    "    score = metrics.accuracy_score(dataset.target, predicted)\n",
    "    return score\n",
    "\n",
    "print(calculate_accuracy(classifier, digits))"
   ]
  },
  {
   "cell_type": "markdown",
   "metadata": {},
   "source": [
    "## Store the Model"
   ]
  },
  {
   "cell_type": "markdown",
   "metadata": {},
   "source": [
    "最後に、学習させたモデルを保存します。アプリケーション側で、その結果を確認してみてください。"
   ]
  },
  {
   "cell_type": "code",
   "execution_count": 16,
   "metadata": {
    "collapsed": true
   },
   "outputs": [
    {
     "data": {
      "text/plain": [
       "['./machine.pkl',\n",
       " './machine.pkl_01.npy',\n",
       " './machine.pkl_02.npy',\n",
       " './machine.pkl_03.npy',\n",
       " './machine.pkl_04.npy']"
      ]
     },
     "execution_count": 16,
     "metadata": {},
     "output_type": "execute_result"
    }
   ],
   "source": [
    "from sklearn.externals import joblib\n",
    "\n",
    "joblib.dump(classifier, \"./machine.pkl\") "
   ]
  },
  {
   "cell_type": "code",
   "execution_count": 437,
   "metadata": {
    "collapsed": false,
    "scrolled": false
   },
   "outputs": [
    {
     "name": "stdout",
     "output_type": "stream",
     "text": [
      "********\n",
      "\n",
      "1797\n",
      "[[  0.   0.   5.  13.   9.   1.   0.   0.]\n",
      " [  0.   0.  13.  15.  10.  15.   5.   0.]\n",
      " [  0.   3.  15.   2.   0.  11.   8.   0.]\n",
      " [  0.   4.  12.   0.   0.   8.   8.   0.]\n",
      " [  0.   5.   8.   0.   0.   9.   8.   0.]\n",
      " [  0.   4.  11.   0.   1.  12.   7.   0.]\n",
      " [  0.   2.  14.   5.  10.  12.   0.   0.]\n",
      " [  0.   0.   6.  13.  10.   0.   0.   0.]]\n",
      "1797\n",
      "[0 1 2 ..., 8 9 8]\n",
      "8\n",
      "1797\n",
      "[  0.   0.   5.  13.   9.   1.   0.   0.   0.   0.  13.  15.  10.  15.   5.\n",
      "   0.   0.   3.  15.   2.   0.  11.   8.   0.   0.   4.  12.   0.   0.   8.\n",
      "   8.   0.   0.   5.   8.   0.   0.   9.   8.   0.   0.   4.  11.   0.   1.\n",
      "  12.   7.   0.   0.   2.  14.   5.  10.  12.   0.   0.   0.   0.   6.  13.\n",
      "  10.   0.   0.   0.]\n",
      "********\n",
      "\n",
      "Classification report for classifier SVC(C=1.0, cache_size=200, class_weight=None, coef0=0.0, degree=3,\n",
      "  gamma=0.001, kernel='rbf', max_iter=-1, probability=False,\n",
      "  random_state=None, shrinking=True, tol=0.001, verbose=False):\n",
      "             precision    recall  f1-score   support\n",
      "\n",
      "          0       1.00      0.99      0.99        88\n",
      "          1       0.99      0.97      0.98        91\n",
      "          2       0.99      0.99      0.99        86\n",
      "          3       0.98      0.87      0.92        91\n",
      "          4       0.99      0.96      0.97        92\n",
      "          5       0.95      0.97      0.96        91\n",
      "          6       0.99      0.99      0.99        91\n",
      "          7       0.96      0.99      0.97        89\n",
      "          8       0.94      1.00      0.97        88\n",
      "          9       0.93      0.98      0.95        92\n",
      "\n",
      "avg / total       0.97      0.97      0.97       899\n",
      "\n",
      "\n",
      "Confusion matrix:\n",
      "[[87  0  0  0  1  0  0  0  0  0]\n",
      " [ 0 88  1  0  0  0  0  0  1  1]\n",
      " [ 0  0 85  1  0  0  0  0  0  0]\n",
      " [ 0  0  0 79  0  3  0  4  5  0]\n",
      " [ 0  0  0  0 88  0  0  0  0  4]\n",
      " [ 0  0  0  0  0 88  1  0  0  2]\n",
      " [ 0  1  0  0  0  0 90  0  0  0]\n",
      " [ 0  0  0  0  0  1  0 88  0  0]\n",
      " [ 0  0  0  0  0  0  0  0 88  0]\n",
      " [ 0  0  0  1  0  1  0  0  0 90]]\n"
     ]
    },
    {
     "data": {
      "image/png": "[encoded data removed]",
      "text/plain": [
       "<matplotlib.figure.Figure at 0x1fe865c0>"
      ]
     },
     "metadata": {},
     "output_type": "display_data"
    }
   ],
   "source": [
    "#machine2.pkl\n",
    "\n",
    "# Standard scientific Python imports\n",
    "import matplotlib.pyplot as plt\n",
    "\n",
    "# Import datasets, classifiers and performance metrics\n",
    "from sklearn import datasets, svm, metrics\n",
    "\n",
    "# The digits dataset\n",
    "digits = datasets.load_digits()\n",
    "\n",
    "# The data that we are interested in is made of 8x8 images of digits, let's\n",
    "# have a look at the first 3 images, stored in the `images` attribute of the\n",
    "# dataset.  If we were working from image files, we could load them using\n",
    "# pylab.imread.  Note that each image must have the same size. For these\n",
    "# images, we know which digit they represent: it is given in the 'target' of\n",
    "# the dataset.\n",
    "images_and_labels = list(zip(digits.images, digits.target))\n",
    "\n",
    "print(\"********\\n\")\n",
    "print(len(digits.images))\n",
    "print(digits.images[0])\n",
    "print(len(digits.target))\n",
    "print(digits.target)\n",
    "print(len(image))\n",
    "\n",
    "for index, (image, label) in enumerate(images_and_labels[:4]):\n",
    "    plt.subplot(2, 4, index + 1)\n",
    "    plt.axis('off')\n",
    "    plt.imshow(image, cmap=plt.cm.gray_r, interpolation='nearest')\n",
    "    plt.title('Training: %i' % label)\n",
    "\n",
    "# 資料攤平:1797 x 8 x 8 -> 1797 x 64\n",
    "# 這裏的-1代表自動計算，相當於 (n_samples, 64)\n",
    "n_samples = len(digits.images) #讀出資料庫中有幾張照片\n",
    "data = digits.images.reshape((n_samples, -1))\n",
    "\n",
    "print(len(data))\n",
    "print(data[0])\n",
    "print(\"********\\n\")\n",
    "\n",
    "# 產生SVC分類器\n",
    "classifier = svm.SVC(gamma=0.001)\n",
    "\n",
    "# 用前半部份的資料來訓練\n",
    "classifier.fit(data[:n_samples / 2], digits.target[:n_samples / 2])\n",
    "\n",
    "# Now predict the value of the digit on the second half:\n",
    "expected = digits.target[n_samples / 2:]\n",
    "#利用後半部份的資料來測試分類器，共 899筆資料\n",
    "predicted = classifier.predict(data[n_samples / 2:])\n",
    "\n",
    "print(\"Classification report for classifier %s:\\n%s\\n\"\n",
    "      % (classifier, metrics.classification_report(expected, predicted)))\n",
    "print(\"Confusion matrix:\\n%s\" % metrics.confusion_matrix(expected, predicted))\n",
    "\n",
    "images_and_predictions = list(zip(digits.images[n_samples / 2:], predicted))\n",
    "for index, (image, prediction) in enumerate(images_and_predictions[:4]):\n",
    "    plt.subplot(2, 4, index + 5)\n",
    "    plt.axis('off')\n",
    "    plt.imshow(image, cmap=plt.cm.gray_r, interpolation='nearest')\n",
    "    plt.title('Prediction: %i' % prediction)\n",
    "\n",
    "plt.show()"
   ]
  },
  {
   "cell_type": "code",
   "execution_count": 416,
   "metadata": {
    "collapsed": false
   },
   "outputs": [
    {
     "data": {
      "image/png": "[encoded data removed]",
      "text/plain": [
       "<matplotlib.figure.Figure at 0x1aaf7588>"
      ]
     },
     "metadata": {},
     "output_type": "display_data"
    }
   ],
   "source": [
    "def plot_confusion_matrix(cm, title='Confusion matrix', cmap=plt.cm.Blues):\n",
    "    import numpy as np\n",
    "    plt.imshow(cm, interpolation='nearest', cmap=cmap)\n",
    "    plt.title(title)\n",
    "    plt.colorbar()\n",
    "    tick_marks = np.arange(len(digits.target_names))\n",
    "    plt.xticks(tick_marks, digits.target_names, rotation=45)\n",
    "    plt.yticks(tick_marks, digits.target_names)\n",
    "    plt.tight_layout()\n",
    "    plt.ylabel('True label')\n",
    "    plt.xlabel('Predicted label')\n",
    "\n",
    "plt.figure()\n",
    "plot_confusion_matrix(metrics.confusion_matrix(expected, predicted))\n"
   ]
  },
  {
   "cell_type": "code",
   "execution_count": 30,
   "metadata": {
    "collapsed": true
   },
   "outputs": [
    {
     "data": {
      "text/plain": [
       "['./machine2.pkl',\n",
       " './machine2.pkl_01.npy',\n",
       " './machine2.pkl_02.npy',\n",
       " './machine2.pkl_03.npy',\n",
       " './machine2.pkl_04.npy',\n",
       " './machine2.pkl_05.npy',\n",
       " './machine2.pkl_06.npy',\n",
       " './machine2.pkl_07.npy',\n",
       " './machine2.pkl_08.npy',\n",
       " './machine2.pkl_09.npy',\n",
       " './machine2.pkl_10.npy',\n",
       " './machine2.pkl_11.npy']"
      ]
     },
     "execution_count": 30,
     "metadata": {},
     "output_type": "execute_result"
    }
   ],
   "source": [
    "from sklearn.externals import joblib\n",
    "\n",
    "joblib.dump(classifier, \"./machine2.pkl\") "
   ]
  },
  {
   "cell_type": "code",
   "execution_count": null,
   "metadata": {
    "collapsed": true
   },
   "outputs": [],
   "source": []
  },
  {
   "cell_type": "code",
   "execution_count": 477,
   "metadata": {
    "collapsed": false,
    "scrolled": false
   },
   "outputs": [
    {
     "data": {
      "text/plain": [
       "800"
      ]
     },
     "execution_count": 477,
     "metadata": {},
     "output_type": "execute_result"
    }
   ],
   "source": [
    "import numpy as np\n",
    "train = np.loadtxt('C:/Github/number_recognizer/train.txt')\n",
    "len(train)"
   ]
  },
  {
   "cell_type": "code",
   "execution_count": 478,
   "metadata": {
    "collapsed": false
   },
   "outputs": [
    {
     "data": {
      "text/plain": [
       "800"
      ]
     },
     "execution_count": 478,
     "metadata": {},
     "output_type": "execute_result"
    }
   ],
   "source": [
    "target = np.loadtxt('C:/Github/number_recognizer/target.txt')\n",
    "len(target)"
   ]
  },
  {
   "cell_type": "code",
   "execution_count": 479,
   "metadata": {
    "collapsed": false,
    "scrolled": true
   },
   "outputs": [
    {
     "name": "stdout",
     "output_type": "stream",
     "text": [
      "Please select the number to show : 0\n",
      "2\n"
     ]
    },
    {
     "data": {
      "text/plain": [
       "<matplotlib.image.AxesImage at 0x1fcd2278>"
      ]
     },
     "execution_count": 479,
     "metadata": {},
     "output_type": "execute_result"
    },
    {
     "data": {
      "image/png": "[encoded data removed]",
      "text/plain": [
       "<matplotlib.figure.Figure at 0x1eec3fd0>"
      ]
     },
     "metadata": {},
     "output_type": "display_data"
    }
   ],
   "source": [
    "%matplotlib inline\n",
    "import matplotlib.pyplot as plt\n",
    "str_num = input(\"Please select the number to show : \")\n",
    "int_num = int(str_num)\n",
    "\n",
    "print (\"%d\" %target[int_num])\n",
    "plt.imshow(train[int_num].reshape(8,8), cmap=plt.cm.gray_r, interpolation='nearest')\n"
   ]
  },
  {
   "cell_type": "code",
   "execution_count": 480,
   "metadata": {
    "collapsed": true
   },
   "outputs": [],
   "source": [
    "t = []\n",
    "for i in range(len(train)):\n",
    "    t.append(train[i].reshape(8,8))"
   ]
  },
  {
   "cell_type": "code",
   "execution_count": 481,
   "metadata": {
    "collapsed": false,
    "scrolled": false
   },
   "outputs": [
    {
     "name": "stdout",
     "output_type": "stream",
     "text": [
      "********\n",
      "\n",
      "800\n",
      "[[  0.           0.           0.           0.           0.           0.\n",
      "    0.           0.        ]\n",
      " [  0.           0.           0.           0.           0.           0.\n",
      "    0.           0.        ]\n",
      " [  0.           0.           0.          15.68438714   0.           6.32455532\n",
      "    0.           0.        ]\n",
      " [  0.           0.           0.           0.           0.           0.\n",
      "   15.96871942   0.        ]\n",
      " [  0.           0.           0.           0.           0.           0.\n",
      "   15.96871942   0.        ]\n",
      " [  0.           0.           0.           9.2736185   14.89966443\n",
      "   15.96871942   0.           0.        ]\n",
      " [  0.           0.           0.           0.           0.           0.\n",
      "    7.          11.61895004]\n",
      " [  0.           0.           0.           0.           0.           0.\n",
      "    0.           0.        ]]\n",
      "800\n",
      "[ 2.  1.  9.  5.  1.  9.  6.  7.  5.  1.  8.  9.  5.  2.  9.  4.  4.  7.\n",
      "  2.  3.  1.  6.  7.  8.  0.  4.  9.  0.  8.  9.  1.  5.  0.  4.  0.  5.\n",
      "  5.  6.  4.  6.  7.  4.  3.  6.  3.  5.  4.  0.  8.  6.  8.  6.  2.  2.\n",
      "  5.  1.  5.  3.  9.  7.  2.  2.  9.  4.  0.  5.  5.  7.  2.  7.  0.  9.\n",
      "  3.  5.  5.  2.  4.  7.  6.  3.  7.  4.  8.  2.  5.  1.  2.  3.  9.  2.\n",
      "  8.  8.  6.  9.  7.  9.  1.  0.  8.  9.  9.  0.  2.  2.  8.  4.  2.  6.\n",
      "  9.  9.  3.  5.  1.  2.  7.  6.  7.  2.  7.  0.  0.  4.  8.  3.  1.  2.\n",
      "  2.  6.  5.  2.  8.  5.  2.  7.  5.  3.  1.  6.  1.  3.  8.  4.  8.  6.\n",
      "  7.  1.  8.  9.  0.  3.  4.  4.  2.  6.  6.  5.  3.  9.  2.  6.  8.  0.\n",
      "  5.  9.  9.  9.  1.  6.  5.  7.  9.  0.  9.  7.  1.  7.  5.  7.  8.  1.\n",
      "  9.  2.  6.  5.  1.  9.  2.  5.  1.  4.  6.  2.  7.  0.  9.  8.  2.  1.\n",
      "  4.  7.  2.  3.  2.  5.  9.  9.  4.  8.  8.  9.  0.  8.  8.  2.  6.  6.\n",
      "  0.  6.  7.  3.  8.  7.  2.  2.  2.  1.  2.  0.  6.  1.  0.  9.  9.  8.\n",
      "  4.  4.  5.  8.  0.  1.  6.  6.  2.  0.  6.  6.  8.  3.  8.  0.  9.  7.\n",
      "  6.  1.  7.  8.  5.  2.  8.  6.  0.  7.  8.  5.  1.  6.  8.  5.  9.  4.\n",
      "  1.  2.  7.  3.  6.  9.  7.  3.  8.  2.  6.  1.  0.  2.  5.  0.  8.  8.\n",
      "  2.  2.  0.  9.  9.  0.  3.  0.  4.  4.  5.  5.  8.  1.  7.  8.  6.  3.\n",
      "  0.  1.  1.  8.  5.  4.  3.  4.  9.  9.  1.  0.  9.  0.  6.  3.  3.  3.\n",
      "  5.  7.  3.  7.  8.  8.  7.  0.  5.  6.  9.  4.  4.  9.  7.  2.  5.  5.\n",
      "  8.  9.  5.  3.  2.  2.  1.  0.  2.  4.  7.  2.  7.  0.  2.  1.  2.  4.\n",
      "  6.  1.  6.  2.  1.  1.  0.  9.  8.  4.  5.  2.  9.  8.  3.  1.  2.  9.\n",
      "  2.  8.  8.  0.  8.  7.  6.  9.  5.  2.  2.  6.  0.  3.  8.  9.  8.  4.\n",
      "  1.  6.  4.  6.  7.  7.  1.  2.  8.  9.  1.  4.  5.  8.  7.  2.  6.  8.\n",
      "  9.  3.  7.  5.  7.  5.  3.  3.  0.  5.  2.  4.  1.  8.  2.  2.  7.  4.\n",
      "  3.  7.  8.  2.  8.  9.  1.  6.  6.  4.  9.  0.  2.  8.  4.  6.  3.  0.\n",
      "  3.  7.  9.  4.  1.  3.  1.  2.  5.  0.  9.  9.  0.  1.  5.  7.  2.  0.\n",
      "  6.  1.  9.  3.  4.  6.  9.  6.  3.  6.  0.  7.  0.  3.  8.  6.  3.  6.\n",
      "  9.  6.  2.  2.  5.  2.  5.  2.  0.  3.  8.  2.  7.  4.  0.  4.  2.  6.\n",
      "  2.  8.  5.  8.  5.  9.  5.  5.  3.  3.  6.  6.  2.  9.  4.  3.  6.  3.\n",
      "  9.  3.  0.  8.  4.  7.  0.  9.  8.  6.  0.  8.  4.  8.  4.  8.  5.  9.\n",
      "  4.  2.  4.  5.  6.  5.  1.  0.  7.  5.  6.  4.  9.  3.  6.  1.  3.  2.\n",
      "  5.  0.  6.  0.  3.  3.  8.  4.  9.  8.  1.  4.  3.  9.  1.  1.  1.  1.\n",
      "  5.  0.  0.  7.  6.  9.  8.  9.  4.  6.  2.  6.  2.  7.  8.  0.  9.  6.\n",
      "  7.  8.  2.  5.  9.  2.  2.  8.  4.  6.  7.  9.  5.  7.  4.  8.  6.  3.\n",
      "  1.  2.  7.  0.  4.  5.  4.  6.  6.  0.  1.  2.  4.  3.  3.  7.  3.  8.\n",
      "  3.  3.  8.  4.  3.  6.  8.  5.  9.  8.  0.  7.  6.  4.  9.  9.  9.  1.\n",
      "  2.  5.  6.  4.  5.  3.  3.  7.  5.  4.  8.  5.  2.  3.  5.  5.  2.  4.\n",
      "  7.  4.  8.  4.  0.  4.  7.  4.  4.  6.  8.  3.  9.  5.  7.  3.  9.  5.\n",
      "  3.  0.  5.  1.  7.  0.  6.  4.  8.  6.  1.  3.  3.  0.  7.  4.  0.  1.\n",
      "  2.  3.  4.  5.  6.  7.  8.  9.  0.  1.  2.  3.  4.  5.  6.  7.  8.  9.\n",
      "  0.  1.  2.  3.  4.  5.  6.  7.  8.  9.  0.  1.  2.  3.  4.  5.  6.  7.\n",
      "  8.  9.  0.  1.  2.  3.  4.  5.  6.  7.  8.  9.  0.  1.  2.  3.  4.  5.\n",
      "  6.  7.  8.  9.  0.  1.  2.  3.  4.  5.  6.  7.  8.  9.  0.  1.  2.  3.\n",
      "  4.  5.  6.  7.  8.  9.  0.  1.  2.  3.  4.  5.  6.  7.  8.  9.  0.  1.\n",
      "  2.  3.  4.  5.  6.  7.  8.  9.]\n",
      "8\n",
      "800\n",
      "[  0.           0.           0.           0.           0.           0.           0.\n",
      "   0.           0.           0.           0.           0.           0.           0.\n",
      "   0.           0.           0.           0.           0.          15.68438714\n",
      "   0.           6.32455532   0.           0.           0.           0.           0.\n",
      "   0.           0.           0.          15.96871942   0.           0.           0.\n",
      "   0.           0.           0.           0.          15.96871942   0.           0.\n",
      "   0.           0.           9.2736185   14.89966443  15.96871942   0.           0.\n",
      "   0.           0.           0.           0.           0.           0.           7.\n",
      "  11.61895004   0.           0.           0.           0.           0.           0.\n",
      "   0.           0.        ]\n",
      "********\n",
      "\n",
      "Classification report for classifier SVC(C=1.0, cache_size=200, class_weight=None, coef0=0.0, degree=3,\n",
      "  gamma=0.001, kernel='rbf', max_iter=-1, probability=False,\n",
      "  random_state=None, shrinking=True, tol=0.001, verbose=False):\n",
      "             precision    recall  f1-score   support\n",
      "\n",
      "        0.0       0.46      0.36      0.41        36\n",
      "        1.0       0.45      0.87      0.59        30\n",
      "        2.0       0.33      0.49      0.39        39\n",
      "        3.0       0.57      0.17      0.26        47\n",
      "        4.0       0.87      0.28      0.43        46\n",
      "        5.0       0.39      0.37      0.38        41\n",
      "        6.0       0.32      0.48      0.39        44\n",
      "        7.0       0.53      0.49      0.51        37\n",
      "        8.0       0.54      0.63      0.58        41\n",
      "        9.0       0.43      0.46      0.44        39\n",
      "\n",
      "avg / total       0.50      0.44      0.43       400\n",
      "\n",
      "\n",
      "Confusion matrix:\n",
      "[[13  0  7  3  0  4  9  0  0  0]\n",
      " [ 0 26  2  0  0  0  0  0  2  0]\n",
      " [ 0  8 19  0  0  6  5  1  0  0]\n",
      " [ 5  2 10  8  0  2  8  1  4  7]\n",
      " [ 3  3  7  0 13  2 13  0  4  1]\n",
      " [ 3  1  4  0  0 15  7  4  4  3]\n",
      " [ 2  5  6  0  1  1 21  1  5  2]\n",
      " [ 0  6  1  0  1  4  0 18  1  6]\n",
      " [ 0  0  1  2  0  4  2  1 26  5]\n",
      " [ 2  7  1  1  0  0  0  8  2 18]]\n"
     ]
    },
    {
     "data": {
      "image/png": "[encoded data removed]",
      "text/plain": [
       "<matplotlib.figure.Figure at 0x1f15d908>"
      ]
     },
     "metadata": {},
     "output_type": "display_data"
    }
   ],
   "source": [
    "images_and_labels = list(zip(t, target))\n",
    "\n",
    "print(\"********\\n\")\n",
    "print(len(t))\n",
    "print(t[0])\n",
    "print(len(target))\n",
    "print(target)\n",
    "print(len(image))\n",
    "\n",
    "plt.figure(figsize=(10,5))\n",
    "for index, (image, label) in enumerate(images_and_labels[:6]):\n",
    "    plt.subplot(2, 6, index + 1)\n",
    "    plt.axis('off')\n",
    "    plt.imshow(image, cmap=plt.cm.gray_r, interpolation='nearest')\n",
    "    plt.title('Training: %i' % label)\n",
    "\n",
    "# 資料攤平:1797 x 8 x 8 -> 1797 x 64\n",
    "# 這裏的-1代表自動計算，相當於 (n_samples, 64)\n",
    "n_samples = len(t) #讀出資料庫中有幾張照片\n",
    "data = train.reshape((n_samples, -1))\n",
    "\n",
    "print(len(data))\n",
    "print(data[0])\n",
    "print(\"********\\n\")\n",
    "\n",
    "# 產生SVC分類器\n",
    "classifier = svm.SVC(gamma=0.001)\n",
    "\n",
    "# 用前半部份的資料來訓練\n",
    "classifier.fit(data[:n_samples / 2], target[:n_samples / 2])\n",
    "\n",
    "# Now predict the value of the digit on the second half:\n",
    "expected = target[n_samples / 2:]\n",
    "#利用後半部份的資料來測試分類器，共 899筆資料\n",
    "predicted = classifier.predict(data[n_samples / 2:])\n",
    "\n",
    "print(\"Classification report for classifier %s:\\n%s\\n\"\n",
    "      % (classifier, metrics.classification_report(expected, predicted)))\n",
    "print(\"Confusion matrix:\\n%s\" % metrics.confusion_matrix(expected, predicted))\n",
    "\n",
    "images_and_predictions = list(zip(t[n_samples / 2:], predicted))\n",
    "for index, (image, prediction) in enumerate(images_and_predictions[:6]):\n",
    "    plt.subplot(2, 6, index + 7)\n",
    "    plt.axis('off')\n",
    "    plt.imshow(image, cmap=plt.cm.gray_r, interpolation='nearest')\n",
    "    plt.title('Prediction: %i' % prediction)\n",
    "\n",
    "plt.show()"
   ]
  },
  {
   "cell_type": "code",
   "execution_count": null,
   "metadata": {
    "collapsed": true
   },
   "outputs": [],
   "source": []
  },
  {
   "cell_type": "code",
   "execution_count": null,
   "metadata": {
    "collapsed": true
   },
   "outputs": [],
   "source": []
  },
  {
   "cell_type": "code",
   "execution_count": 53,
   "metadata": {
    "collapsed": false
   },
   "outputs": [
    {
     "data": {
      "text/plain": [
       "<matplotlib.image.AxesImage at 0xca25590>"
      ]
     },
     "execution_count": 53,
     "metadata": {},
     "output_type": "execute_result"
    },
    {
     "data": {
      "image/png": "[encoded data removed]",
      "text/plain": [
       "<matplotlib.figure.Figure at 0x5c66850>"
      ]
     },
     "metadata": {},
     "output_type": "display_data"
    }
   ],
   "source": [
    "b=a.reshape(16,16)\n",
    "import scipy\n",
    "c=scipy.misc.imresize(b,(8,8), 'bilinear')\n",
    "plt.imshow(c, cmap=plt.cm.gray_r, interpolation='nearest')"
   ]
  },
  {
   "cell_type": "code",
   "execution_count": null,
   "metadata": {
    "collapsed": true
   },
   "outputs": [],
   "source": []
  },
  {
   "cell_type": "code",
   "execution_count": 10,
   "metadata": {
    "collapsed": false
   },
   "outputs": [
    {
     "data": {
      "text/plain": [
       "100"
      ]
     },
     "execution_count": 10,
     "metadata": {},
     "output_type": "execute_result"
    }
   ],
   "source": [
    "len(a)"
   ]
  },
  {
   "cell_type": "code",
   "execution_count": 18,
   "metadata": {
    "collapsed": false
   },
   "outputs": [
    {
     "data": {
      "text/plain": [
       "10.0"
      ]
     },
     "execution_count": 18,
     "metadata": {},
     "output_type": "execute_result"
    }
   ],
   "source": [
    "b = len(a) / 10\n",
    "b"
   ]
  },
  {
   "cell_type": "code",
   "execution_count": 40,
   "metadata": {
    "collapsed": true
   },
   "outputs": [],
   "source": [
    "b=a.split(\" \")"
   ]
  },
  {
   "cell_type": "code",
   "execution_count": 41,
   "metadata": {
    "collapsed": false
   },
   "outputs": [
    {
     "data": {
      "text/plain": [
       "256"
      ]
     },
     "execution_count": 41,
     "metadata": {},
     "output_type": "execute_result"
    }
   ],
   "source": [
    "len(b)"
   ]
  },
  {
   "cell_type": "code",
   "execution_count": 44,
   "metadata": {
    "collapsed": false
   },
   "outputs": [
    {
     "ename": "TypeError",
     "evalue": "can't multiply sequence by non-int of type 'float'",
     "output_type": "error",
     "traceback": [
      "\u001b[1;31m---------------------------------------------------------------------------\u001b[0m",
      "\u001b[1;31mTypeError\u001b[0m                                 Traceback (most recent call last)",
      "\u001b[1;32m<ipython-input-44-9f1f8011a4f1>\u001b[0m in \u001b[0;36m<module>\u001b[1;34m()\u001b[0m\n\u001b[1;32m----> 1\u001b[1;33m \u001b[0mplt\u001b[0m\u001b[1;33m.\u001b[0m\u001b[0mimshow\u001b[0m\u001b[1;33m(\u001b[0m\u001b[0mnp\u001b[0m\u001b[1;33m.\u001b[0m\u001b[0marray\u001b[0m\u001b[1;33m(\u001b[0m\u001b[0mb\u001b[0m\u001b[1;33m*\u001b[0m\u001b[1;36m1.0\u001b[0m\u001b[1;33m)\u001b[0m\u001b[1;33m.\u001b[0m\u001b[0mreshape\u001b[0m\u001b[1;33m(\u001b[0m\u001b[1;36m16\u001b[0m\u001b[1;33m,\u001b[0m\u001b[1;36m16\u001b[0m\u001b[1;33m)\u001b[0m\u001b[1;33m,\u001b[0m \u001b[0mcmap\u001b[0m\u001b[1;33m=\u001b[0m\u001b[0mplt\u001b[0m\u001b[1;33m.\u001b[0m\u001b[0mcm\u001b[0m\u001b[1;33m.\u001b[0m\u001b[0mgray_r\u001b[0m\u001b[1;33m,\u001b[0m \u001b[0minterpolation\u001b[0m\u001b[1;33m=\u001b[0m\u001b[1;34m'nearest'\u001b[0m\u001b[1;33m)\u001b[0m\u001b[1;33m\u001b[0m\u001b[0m\n\u001b[0m",
      "\u001b[1;31mTypeError\u001b[0m: can't multiply sequence by non-int of type 'float'"
     ]
    }
   ],
   "source": [
    "plt.imshow(np.array(b).reshape(16,16), cmap=plt.cm.gray_r, interpolation='nearest')"
   ]
  },
  {
   "cell_type": "code",
   "execution_count": 45,
   "metadata": {
    "collapsed": false
   },
   "outputs": [
    {
     "data": {
      "text/plain": [
       "array(['0', '0', '0', '0', '0', '0', '0', '0', '0', '0', '0', '0', '0',\n",
       "       '0', '0', '0', '0', '0', '0', '0', '0', '0', '0', '0', '0', '0',\n",
       "       '0', '0', '0', '0', '0', '0', '0', '0', '0', '0', '0', '0', '0',\n",
       "       '0', '0', '0', '0', '0', '0', '0', '0', '0', '0', '0', '0', '0',\n",
       "       '0', '0', '0', '0', '0', '0', '0', '0', '0', '0', '0', '0', '0',\n",
       "       '0', '0', '0', '0', '0', '0', '0', '0', '0', '0', '0', '0', '0',\n",
       "       '0', '0', '255', '255', '255', '255', '0', '0', '0', '0', '0', '0',\n",
       "       '0', '0', '0', '0', '0', '0', '0', '0', '0', '0', '0', '0', '0',\n",
       "       '0', '0', '0', '0', '0', '0', '0', '0', '0', '255', '255', '255',\n",
       "       '255', '0', '0', '0', '0', '0', '0', '0', '0', '0', '0', '0', '0',\n",
       "       '0', '0', '0', '0', '0', '0', '0', '0', '0', '0', '0', '0', '255',\n",
       "       '255', '255', '255', '0', '0', '0', '0', '0', '0', '0', '0', '0',\n",
       "       '0', '0', '0', '0', '0', '0', '0', '0', '0', '0', '0', '0', '0',\n",
       "       '0', '0', '66', '66', '66', '66', '0', '0', '0', '0', '0', '0', '0',\n",
       "       '0', '0', '0', '0', '0', '0', '0', '0', '0', '0', '0', '0', '0',\n",
       "       '0', '0', '0', '0', '255', '255', '255', '255', '255', '255', '255',\n",
       "       '255', '255', '255', '255', '255', '255', '255', '255', '255', '0',\n",
       "       '0', '0', '0', '0', '0', '0', '0', '0', '0', '0', '0', '0', '0',\n",
       "       '0', '0', '0', '0', '0', '0', '0', '0', '0', '0', '0', '0', '0',\n",
       "       '0', '0', '0', '0', '0', '0', '0', '0', '0', '0', '0', '0', '0',\n",
       "       '0', '0', '0', '0'], \n",
       "      dtype='<U3')"
      ]
     },
     "execution_count": 45,
     "metadata": {},
     "output_type": "execute_result"
    }
   ],
   "source": [
    "np.array(b)"
   ]
  },
  {
   "cell_type": "code",
   "execution_count": 295,
   "metadata": {
    "collapsed": false
   },
   "outputs": [
    {
     "ename": "ValueError",
     "evalue": "Wrong number of columns at line 2",
     "output_type": "error",
     "traceback": [
      "\u001b[1;31m---------------------------------------------------------------------------\u001b[0m",
      "\u001b[1;31mValueError\u001b[0m                                Traceback (most recent call last)",
      "\u001b[1;32m<ipython-input-295-db112dcf0ef3>\u001b[0m in \u001b[0;36m<module>\u001b[1;34m()\u001b[0m\n\u001b[1;32m----> 1\u001b[1;33m \u001b[0mtest_1\u001b[0m \u001b[1;33m=\u001b[0m \u001b[0mnp\u001b[0m\u001b[1;33m.\u001b[0m\u001b[0mloadtxt\u001b[0m\u001b[1;33m(\u001b[0m\u001b[1;34m'C:/Github/number_recognizer/train_1.txt'\u001b[0m\u001b[1;33m)\u001b[0m\u001b[1;33m\u001b[0m\u001b[0m\n\u001b[0m\u001b[0;32m      2\u001b[0m \u001b[0mlen\u001b[0m\u001b[1;33m(\u001b[0m\u001b[0mtrain_1\u001b[0m\u001b[1;33m)\u001b[0m\u001b[1;33m\u001b[0m\u001b[0m\n",
      "\u001b[1;32mD:\\Anaconda\\lib\\site-packages\\numpy\\lib\\npyio.pyc\u001b[0m in \u001b[0;36mloadtxt\u001b[1;34m(fname, dtype, comments, delimiter, converters, skiprows, usecols, unpack, ndmin)\u001b[0m\n\u001b[0;32m    855\u001b[0m                 \u001b[0mline_num\u001b[0m \u001b[1;33m=\u001b[0m \u001b[0mi\u001b[0m \u001b[1;33m+\u001b[0m \u001b[0mskiprows\u001b[0m \u001b[1;33m+\u001b[0m \u001b[1;36m1\u001b[0m\u001b[1;33m\u001b[0m\u001b[0m\n\u001b[0;32m    856\u001b[0m                 raise ValueError(\"Wrong number of columns at line %d\"\n\u001b[1;32m--> 857\u001b[1;33m                                  % line_num)\n\u001b[0m\u001b[0;32m    858\u001b[0m \u001b[1;33m\u001b[0m\u001b[0m\n\u001b[0;32m    859\u001b[0m             \u001b[1;31m# Convert each value according to its column and store\u001b[0m\u001b[1;33m\u001b[0m\u001b[1;33m\u001b[0m\u001b[0m\n",
      "\u001b[1;31mValueError\u001b[0m: Wrong number of columns at line 2"
     ]
    }
   ],
   "source": []
  },
  {
   "cell_type": "code",
   "execution_count": null,
   "metadata": {
    "collapsed": true
   },
   "outputs": [],
   "source": []
  }
 ],
 "metadata": {
  "kernelspec": {
   "display_name": "Python 2",
   "language": "python",
   "name": "python2"
  },
  "language_info": {
   "codemirror_mode": {
    "name": "ipython",
    "version": 2
   },
   "file_extension": ".py",
   "mimetype": "text/x-python",
   "name": "python",
   "nbconvert_exporter": "python",
   "pygments_lexer": "ipython2",
   "version": "2.7.11"
  }
 },
 "nbformat": 4,
 "nbformat_minor": 0
}
